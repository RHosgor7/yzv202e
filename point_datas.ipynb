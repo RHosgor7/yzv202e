{
 "cells": [
  {
   "cell_type": "code",
   "id": "initial_id",
   "metadata": {
    "collapsed": true,
    "ExecuteTime": {
     "end_time": "2025-05-08T16:35:52.218463Z",
     "start_time": "2025-05-08T16:35:52.214851Z"
    }
   },
   "source": [
    "from shapely.geometry import Point\n",
    "import geopandas as gpd\n",
    "from pykml.factory import KML_ElementMaker as KML\n",
    "from lxml import etree\n",
    "import pandas as pd\n",
    "from shapely.geometry import Polygon"
   ],
   "outputs": [],
   "execution_count": 8
  },
  {
   "metadata": {
    "ExecuteTime": {
     "end_time": "2025-05-08T16:35:52.878723Z",
     "start_time": "2025-05-08T16:35:52.873309Z"
    }
   },
   "cell_type": "code",
   "source": [
    "lat_start, lat_end = 40.80, 41.62\n",
    "lon_start, lon_end = 27.94, 29.97\n",
    "lat_step = 0.02\n",
    "lon_step = 0.03\n",
    "\n",
    "lat_points = [round(lat_start + i * lat_step, 4) for i in range(int((lat_end - lat_start) / lat_step) + 1)]\n",
    "lon_points = [round(lon_start + i * lon_step, 4) for i in range(int((lon_end - lon_start) / lon_step) + 1)]\n",
    "\n",
    "grid_points = [(lat, lon) for lat in lat_points for lon in lon_points]"
   ],
   "id": "305959f982b8f304",
   "outputs": [],
   "execution_count": 9
  },
  {
   "metadata": {
    "ExecuteTime": {
     "end_time": "2025-05-08T16:35:53.510417Z",
     "start_time": "2025-05-08T16:35:53.506352Z"
    }
   },
   "cell_type": "code",
   "source": [
    "def create_kml(gdf, filename):\n",
    "    placemarks = []\n",
    "    for _, row in gdf.iterrows():\n",
    "        lon, lat = row.geometry.x, row.geometry.y\n",
    "        placemarks.append(\n",
    "            KML.Placemark(\n",
    "                KML.name(f\"{lat}, {lon}\"),\n",
    "                KML.Point(KML.coordinates(f\"{lon},{lat},0\"))\n",
    "            )\n",
    "        )\n",
    "\n",
    "    kml_doc = KML.kml(KML.Document(*placemarks))\n",
    "    with open(filename, \"w\", encoding=\"utf-8\") as f:\n",
    "        f.write(etree.tostring(kml_doc, pretty_print=True).decode(\"utf-8\"))\n"
   ],
   "id": "894702b474c155bd",
   "outputs": [],
   "execution_count": 10
  },
  {
   "metadata": {
    "ExecuteTime": {
     "end_time": "2025-05-08T16:35:54.221818Z",
     "start_time": "2025-05-08T16:35:54.105816Z"
    }
   },
   "cell_type": "code",
   "source": [
    "geoms = [Point(lon, lat) for lat, lon in grid_points]\n",
    "gdf = gpd.GeoDataFrame(geometry=geoms, crs=\"EPSG:4326\")\n",
    "\n",
    "create_kml(gdf, \"assets/istanbul_grid.kml\")"
   ],
   "id": "129524d4bf0a647b",
   "outputs": [],
   "execution_count": 11
  },
  {
   "metadata": {
    "ExecuteTime": {
     "end_time": "2025-05-08T16:35:54.811770Z",
     "start_time": "2025-05-08T16:35:54.677232Z"
    }
   },
   "cell_type": "code",
   "source": [
    "polygon_df = pd.read_csv(\"assets/Istanbul.csv\")\n",
    "polygon_list = []\n",
    "for row in polygon_df.iloc[:, 0]:\n",
    "    coords = [(float(p.split(\",\")[0]), float(p.split(\",\")[1])) for p in row.strip().split()]\n",
    "    polygon_list.append(Polygon(coords))\n",
    "\n",
    "gdf[\"is_inside\"] = gdf.geometry.apply(lambda point: any(point.within(poly) for poly in polygon_list))\n",
    "\n",
    "inside_points = gdf[gdf[\"is_inside\"]].copy()\n",
    "\n",
    "# KML\n",
    "create_kml(inside_points, \"assets/istanbul_filtered_grid.kml\")\n",
    "\n",
    "# CSV\n",
    "inside_points[\"lon\"] = inside_points.geometry.x\n",
    "inside_points[\"lat\"] = inside_points.geometry.y\n",
    "inside_points[[\"lat\", \"lon\"]].to_csv(\"assets/istanbul_filtered_grid.csv\", index=False)\n"
   ],
   "id": "7143f48580b3db4d",
   "outputs": [],
   "execution_count": 12
  },
  {
   "metadata": {
    "ExecuteTime": {
     "end_time": "2025-05-08T16:35:55.656267Z",
     "start_time": "2025-05-08T16:35:55.652730Z"
    }
   },
   "cell_type": "code",
   "source": [
    "print(len(inside_points))\n",
    "print(len(grid_points))"
   ],
   "id": "1a35d013a107b26c",
   "outputs": [
    {
     "name": "stdout",
     "output_type": "stream",
     "text": [
      "973\n",
      "2856\n"
     ]
    }
   ],
   "execution_count": 13
  }
 ],
 "metadata": {
  "kernelspec": {
   "display_name": "Python 3",
   "language": "python",
   "name": "python3"
  },
  "language_info": {
   "codemirror_mode": {
    "name": "ipython",
    "version": 2
   },
   "file_extension": ".py",
   "mimetype": "text/x-python",
   "name": "python",
   "nbconvert_exporter": "python",
   "pygments_lexer": "ipython2",
   "version": "2.7.6"
  }
 },
 "nbformat": 4,
 "nbformat_minor": 5
}
